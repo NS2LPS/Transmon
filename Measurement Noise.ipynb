{
 "cells": [
  {
   "cell_type": "code",
   "execution_count": null,
   "id": "1151a977-378d-47e7-bda1-a76c5f3470a8",
   "metadata": {},
   "outputs": [],
   "source": [
    "%matplotlib widget\n",
    "import warnings\n",
    "warnings.filterwarnings(\"ignore\") "
   ]
  },
  {
   "cell_type": "code",
   "execution_count": null,
   "id": "939e9c68-bc87-4d44-ba68-74d3cf3cfb54",
   "metadata": {},
   "outputs": [],
   "source": [
    "import time\n",
    "import numpy as np\n",
    "from matplotlib import pyplot as plt\n",
    "from qualang_tools.units import unit\n",
    "u = unit(coerce_to_integer=True)\n",
    "from qm.qua import *\n",
    "from qm import QuantumMachinesManager\n",
    "from qualang_tools.results import progress_counter, fetching_tool\n",
    "from qualang_tools.loops import from_array\n",
    "from progress import addjob, ProgressPlot\n",
    "import threading\n",
    "import config_qubit as config"
   ]
  },
  {
   "cell_type": "code",
   "execution_count": null,
   "id": "b80ca934-4b13-488d-bcf6-b51981f22697",
   "metadata": {},
   "outputs": [],
   "source": [
    "# Connect to the cluster (run only once)\n",
    "import QM_cluster\n",
    "qmm = QuantumMachinesManager(host=QM_cluster.QM_Router_IP, cluster_name=QM_cluster.cluster_name)"
   ]
  },
  {
   "cell_type": "markdown",
   "id": "0bf0b3f9-c6bd-4493-a81b-fe6f182dfdf3",
   "metadata": {},
   "source": [
    "# Connect to the running QM"
   ]
  },
  {
   "cell_type": "code",
   "execution_count": null,
   "id": "e28b1f5f-7bf2-47da-b529-d3f2b46a965e",
   "metadata": {},
   "outputs": [],
   "source": [
    "# Get the## QM reference (rerun every time the config is changed)\n",
    "qm_list =  qmm.list_open_qms()\n",
    "qm = qmm.get_qm(qm_list[0])\n",
    "print(f\"Connected to {qm.id}\")"
   ]
  },
  {
   "cell_type": "markdown",
   "id": "bda5beed-4ba3-4556-91ae-30074a119ea0",
   "metadata": {},
   "source": [
    "# Histogram Analysis"
   ]
  },
  {
   "cell_type": "code",
   "execution_count": null,
   "id": "5137b387-7a37-41cf-a552-25bfa103cdb4",
   "metadata": {},
   "outputs": [],
   "source": [
    "def rot(I,Q,theta,scale=1e4):\n",
    "    theta = theta*np.pi/180\n",
    "    return scale*(I*np.cos(theta)-Q*np.sin(theta)) , scale*(I*np.sin(theta)+Q*np.cos(theta))"
   ]
  },
  {
   "cell_type": "markdown",
   "id": "162222e8-a6d1-4207-bf45-b931a87bf8fb",
   "metadata": {},
   "source": [
    "## Without parametric amplifier"
   ]
  },
  {
   "cell_type": "code",
   "execution_count": null,
   "id": "448d1d75-dff5-4d01-8636-d364aba497a3",
   "metadata": {},
   "outputs": [],
   "source": [
    "with np.load('JPA_off.npz') as data:\n",
    "    I0 = data['I0']\n",
    "    I1 = data['I1']\n",
    "    Q0 = data['Q0']\n",
    "    Q1 = data['Q1']"
   ]
  },
  {
   "cell_type": "markdown",
   "id": "98adf11f-796f-4475-bdce-6fbf2750e014",
   "metadata": {},
   "source": [
    "- Find the best rotation angle to encode the measurement result on the $I$ quadrature\n",
    "- Estimate the qubit temperature\n",
    "- Estimate the readout error"
   ]
  },
  {
   "cell_type": "code",
   "execution_count": null,
   "id": "dd03b6ed-2161-4de1-a947-f1e550ec5613",
   "metadata": {},
   "outputs": [],
   "source": [
    "I0r,Q0r = rot(I0,Q0,0)\n",
    "I1r,Q1r = rot(I1,Q1,0)\n",
    "fig,ax = plt.subplots()\n",
    "ax.plot(I0r, Q0r,',')\n",
    "ax.plot(I1r, Q1r,',')\n",
    "ax.set_xlabel(\"I\")\n",
    "ax.set_ylabel(\"Q\")\n",
    "ax.set_aspect(\"equal\")"
   ]
  },
  {
   "cell_type": "code",
   "execution_count": null,
   "id": "7275d542-f355-4c7e-b4fb-91fcaae9a84d",
   "metadata": {},
   "outputs": [],
   "source": [
    "fig,ax=plt.subplots()\n",
    "bins = np.arange(-20,20,0.1)\n",
    "ax.hist(I0r,bins,histtype='step')\n",
    "ax.hist(I1r,bins,histtype='step');"
   ]
  },
  {
   "cell_type": "markdown",
   "id": "cb030f66-9818-4ecc-9008-d23d708039b1",
   "metadata": {},
   "source": [
    "## With parametric amplifier"
   ]
  },
  {
   "cell_type": "code",
   "execution_count": null,
   "id": "976d6756-4e95-4a74-a055-0af036bea6d9",
   "metadata": {},
   "outputs": [],
   "source": [
    "with np.load('JPA_on.npz') as data:\n",
    "    I0 = data['I0']\n",
    "    I1 = data['I1']\n",
    "    Q0 = data['Q0']\n",
    "    Q1 = data['Q1']"
   ]
  },
  {
   "cell_type": "markdown",
   "id": "24e2677d-2481-4afb-93b0-ffbaa9cd5d94",
   "metadata": {},
   "source": [
    "- Find the best rotation angle to encode the measurement result on the $I$ quadrature\n",
    "- Estimate the qubit temperature\n",
    "- Estimate the readout error"
   ]
  },
  {
   "cell_type": "code",
   "execution_count": null,
   "id": "496e4547-84e4-40a1-b10e-54450da1cfc1",
   "metadata": {},
   "outputs": [],
   "source": [
    "I0r,Q0r = rot(I0,Q0,0)\n",
    "I1r,Q1r = rot(I1,Q1,0)\n",
    "fig,ax = plt.subplots()\n",
    "ax.plot(I0r, Q0r,',')\n",
    "ax.plot(I1r, Q1r,',')\n",
    "ax.set_xlabel(\"I\")\n",
    "ax.set_ylabel(\"Q\")\n",
    "ax.set_aspect(\"equal\")"
   ]
  },
  {
   "cell_type": "code",
   "execution_count": null,
   "id": "fc9aba3f-4000-465e-9403-921cb31c6bd5",
   "metadata": {},
   "outputs": [],
   "source": [
    "fig,ax=plt.subplots()\n",
    "bins = np.arange(-80,80,0.3)\n",
    "ax.hist(I0r,bins,histtype='step')\n",
    "ax.hist(I1r,bins,histtype='step');"
   ]
  },
  {
   "cell_type": "markdown",
   "id": "1f3c7350-dba9-4c09-b645-9fde02f595da",
   "metadata": {},
   "source": [
    "# Quantum trajectories"
   ]
  },
  {
   "cell_type": "code",
   "execution_count": null,
   "id": "fc1e07b9-6261-4c53-9629-51fd38307546",
   "metadata": {},
   "outputs": [],
   "source": [
    "# Parameters Definition\n",
    "n_meas = 5000  \n",
    "###################\n",
    "# The QUA program #\n",
    "###################\n",
    "with program() as qmprog:\n",
    "    n = declare(int)  \n",
    "    I = declare(fixed)  \n",
    "    Q = declare(fixed)  \n",
    "    I_st = declare_stream()  # Stream for the 'I' quadrature\n",
    "    Q_st = declare_stream()  # Stream for the 'Q' quadrature\n",
    "\n",
    "    with for_(n, 0, n < n_meas, n + 1):  # QUA for_ loop for averaging\n",
    "        measure(\n",
    "            \"readout\",\n",
    "            \"resonator\",\n",
    "            dual_demod.full(\"cos\", \"sin\", I),\n",
    "            dual_demod.full(\"minus_sin\", \"cos\", Q),\n",
    "        )\n",
    "        save(I, I_st)\n",
    "        save(Q, Q_st)\n",
    "\n",
    "    with stream_processing():\n",
    "        # Cast the data into a 1D vector, average the 1D vectors together and store the results on the OPX processor\n",
    "        I_st.save_all(\"I\")\n",
    "        Q_st.save_all(\"Q\")\n",
    "\n",
    "# Send the QUA program to the OPX, which compiles and executes it\n",
    "job = addjob(qmprog, qm)\n",
    "results = fetching_tool(job, data_list=[\"I\", \"Q\"])\n",
    "I,Q=results.fetch_all()\n",
    "print(\"Done\")"
   ]
  },
  {
   "cell_type": "code",
   "execution_count": null,
   "id": "cc894c1a-ea7a-4f02-a868-dd07fa089c49",
   "metadata": {},
   "outputs": [],
   "source": [
    "theta = -292*np.pi/180\n",
    "Ir =  I*np.cos(theta)-Q*np.sin(theta)\n",
    "Ir *= 1e3\n",
    "fig,ax=plt.subplots(figsize=(12,4))\n",
    "ax.plot(Ir)\n",
    "ax.plot(Ir>.8)"
   ]
  },
  {
   "cell_type": "markdown",
   "id": "0632f903-f383-4194-9c7c-ee6d630cca9b",
   "metadata": {},
   "source": [
    "- What is the probability to obtain identical results two times in a row?\n",
    "- What is the probability to obtain different results two times in a row?\n",
    "- What is the jump probability from $|0\\rangle$ to $|1\\rangle$?\n",
    "- What is the jump probability from $|1\\rangle$ to $|0\\rangle$?"
   ]
  },
  {
   "cell_type": "markdown",
   "id": "4c913694-17d1-4313-8c4d-d38a60dd70a9",
   "metadata": {},
   "source": [
    "## Bang bang"
   ]
  },
  {
   "cell_type": "code",
   "execution_count": null,
   "id": "9c6123aa-a20c-4141-8500-c7ba5024450a",
   "metadata": {},
   "outputs": [],
   "source": [
    "# Parameters Definition\n",
    "n_meas = 5000  \n",
    "###################\n",
    "# The QUA program #\n",
    "###################\n",
    "with program() as qmprog:\n",
    "    n = declare(int)  \n",
    "    I = declare(fixed)  \n",
    "    Q = declare(fixed)  \n",
    "    I_st = declare_stream()  # Stream for the 'I' quadrature\n",
    "    Q_st = declare_stream()  # Stream for the 'Q' quadrature\n",
    "\n",
    "    with for_(n, 0, n < n_meas, n + 1):  # QUA for_ loop for averaging\n",
    "        play(\"pi\",\"qubit\")\n",
    "        measure(\n",
    "            \"readout\",\n",
    "            \"resonator\",\n",
    "            dual_demod.full(\"cos\", \"sin\", I),\n",
    "            dual_demod.full(\"minus_sin\", \"cos\", Q),\n",
    "        )\n",
    "        save(I, I_st)\n",
    "        save(Q, Q_st)\n",
    "\n",
    "    with stream_processing():\n",
    "        # Cast the data into a 1D vector, average the 1D vectors together and store the results on the OPX processor\n",
    "        I_st.save_all(\"I\")\n",
    "        Q_st.save_all(\"Q\")\n",
    "\n",
    "# Send the QUA program to the OPX, which compiles and executes it\n",
    "job = addjob(qmprog, qm)\n",
    "results = fetching_tool(job, data_list=[\"I\", \"Q\"])\n",
    "I,Q=results.fetch_all()\n",
    "print(\"Done\")"
   ]
  },
  {
   "cell_type": "code",
   "execution_count": null,
   "id": "0aae7c71-6b7c-470b-944c-7dbf2d19c4ba",
   "metadata": {},
   "outputs": [],
   "source": [
    "theta = -292*np.pi/180\n",
    "Ir =  I*np.cos(theta)-Q*np.sin(theta)\n",
    "Ir *= 1e3\n",
    "fig,ax=plt.subplots(figsize=(12,4))\n",
    "ax.plot(Ir)\n",
    "ax.plot(Ir>.8)"
   ]
  },
  {
   "cell_type": "markdown",
   "id": "c15329b5-e2e5-4e0e-ad28-aa78dd7c5710",
   "metadata": {},
   "source": [
    "- What is the probability to obtain identical results two times in a row?\n",
    "- What is the probability to obtain different results two times in a row?"
   ]
  },
  {
   "cell_type": "markdown",
   "id": "a78bd04c-0aac-4a43-a73d-e7f266e942d6",
   "metadata": {},
   "source": [
    "# Quantum Random Number Generator"
   ]
  },
  {
   "cell_type": "code",
   "execution_count": null,
   "id": "3d925ee8-eafc-4719-9425-d5d7fa789a18",
   "metadata": {},
   "outputs": [],
   "source": [
    "# Parameters Definition\n",
    "n_meas = 5000  \n",
    "thermalization_time = 80 #in µs\n",
    "\n",
    "###################\n",
    "# The QUA program #\n",
    "###################\n",
    "with program() as qmprog:\n",
    "    n = declare(int)  \n",
    "    I = declare(fixed)  \n",
    "    Q = declare(fixed)  \n",
    "    I_st = declare_stream()  # Stream for the 'I' quadrature\n",
    "    Q_st = declare_stream()  # Stream for the 'Q' quadrature\n",
    "\n",
    "    with for_(n, 0, n < n_meas, n + 1):  # QUA for_ loop for averaging\n",
    "        play(\"pi_half\",\"qubit\")\n",
    "        measure(\n",
    "            \"readout\",\n",
    "            \"resonator\",\n",
    "            dual_demod.full(\"cos\", \"sin\", I),\n",
    "            dual_demod.full(\"minus_sin\", \"cos\", Q),\n",
    "        )\n",
    "        save(I, I_st)\n",
    "        save(Q, Q_st)\n",
    "        wait(thermalization_time*u.us)\n",
    "\n",
    "    with stream_processing():\n",
    "        # Cast the data into a 1D vector, average the 1D vectors together and store the results on the OPX processor\n",
    "        I_st.save_all(\"I\")\n",
    "        Q_st.save_all(\"Q\")\n",
    "\n",
    "# Send the QUA program to the OPX, which compiles and executes it\n",
    "job = addjob(qmprog, qm)\n",
    "results = fetching_tool(job, data_list=[\"I\", \"Q\"])\n",
    "I,Q=results.fetch_all()\n",
    "print(\"Done\")"
   ]
  },
  {
   "cell_type": "code",
   "execution_count": null,
   "id": "4a10a57f-3818-40c0-93c1-cf6db3465f03",
   "metadata": {},
   "outputs": [],
   "source": [
    "theta = -292*np.pi/180\n",
    "Ir =  I*np.cos(theta)-Q*np.sin(theta)\n",
    "Ir *= 1e3\n",
    "fig,ax=plt.subplots(figsize=(12,4))\n",
    "ax.plot(Ir)\n",
    "ax.plot(Ir>.8)"
   ]
  },
  {
   "cell_type": "markdown",
   "id": "d7f59120-693f-4fd6-88c0-32473e639931",
   "metadata": {},
   "source": [
    "- Extract a random number sequence from the data\n",
    "- Is it biased? Why?"
   ]
  },
  {
   "cell_type": "markdown",
   "id": "bcfc3b28-63a5-486c-8622-564ec97179b1",
   "metadata": {},
   "source": [
    "# Quantum Tomography"
   ]
  },
  {
   "cell_type": "markdown",
   "id": "107f9e5b-7157-4468-bfef-efb16793d7b4",
   "metadata": {},
   "source": [
    "- The qubit seems to be half the time in $|0\\rangle$ and half the time in $|1\\rangle$. But it should be in a well defined deterministic quantum state. How can we prove it?\n",
    "- By adding pulses before the measurement, try to estimate the qubit quantum state."
   ]
  },
  {
   "cell_type": "code",
   "execution_count": null,
   "id": "f47bcb02-8534-4497-9128-54275b1f4c2c",
   "metadata": {},
   "outputs": [],
   "source": [
    "# Parameters Definition\n",
    "n_meas = 5000  \n",
    "thermalization_time = 80 #in µs\n",
    "\n",
    "###################\n",
    "# The QUA program #\n",
    "###################\n",
    "with program() as qmprog:\n",
    "    n = declare(int)  \n",
    "    I = declare(fixed)  \n",
    "    Q = declare(fixed)  \n",
    "    I_st = declare_stream()  # Stream for the 'I' quadrature\n",
    "    Q_st = declare_stream()  # Stream for the 'Q' quadrature\n",
    "\n",
    "    with for_(n, 0, n < n_meas, n + 1):  # QUA for_ loop for averaging\n",
    "        play(\"pi_half\",\"qubit\")\n",
    "        measure(\n",
    "            \"readout\",\n",
    "            \"resonator\",\n",
    "            dual_demod.full(\"cos\", \"sin\", I),\n",
    "            dual_demod.full(\"minus_sin\", \"cos\", Q),\n",
    "        )\n",
    "        save(I, I_st)\n",
    "        save(Q, Q_st)\n",
    "        wait(thermalization_time*u.us)\n",
    "\n",
    "    with stream_processing():\n",
    "        # Cast the data into a 1D vector, average the 1D vectors together and store the results on the OPX processor\n",
    "        I_st.save_all(\"I\")\n",
    "        Q_st.save_all(\"Q\")\n",
    "\n",
    "# Send the QUA program to the OPX, which compiles and executes it\n",
    "job = addjob(qmprog, qm)\n",
    "results = fetching_tool(job, data_list=[\"I\", \"Q\"])\n",
    "I,Q=results.fetch_all()\n",
    "print(\"Done\")"
   ]
  },
  {
   "cell_type": "code",
   "execution_count": null,
   "id": "ddca303d-6392-44d1-ad0e-a7fa33568dfc",
   "metadata": {},
   "outputs": [],
   "source": [
    "theta = -292*np.pi/180\n",
    "Ir =  I*np.cos(theta)-Q*np.sin(theta)\n",
    "Ir *= 1e3\n",
    "fig,ax=plt.subplots(figsize=(12,4))\n",
    "ax.plot(Ir)\n",
    "ax.plot(Ir>.8)"
   ]
  }
 ],
 "metadata": {
  "kernelspec": {
   "display_name": "Python 3 (ipykernel)",
   "language": "python",
   "name": "python3"
  },
  "language_info": {
   "codemirror_mode": {
    "name": "ipython",
    "version": 3
   },
   "file_extension": ".py",
   "mimetype": "text/x-python",
   "name": "python",
   "nbconvert_exporter": "python",
   "pygments_lexer": "ipython3",
   "version": "3.12.11"
  }
 },
 "nbformat": 4,
 "nbformat_minor": 5
}
