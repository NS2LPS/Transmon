{
 "cells": [
  {
   "cell_type": "code",
   "execution_count": 1,
   "id": "01b607e8-ff22-473d-af0d-d6931db89a06",
   "metadata": {},
   "outputs": [
    {
     "name": "stdout",
     "output_type": "stream",
     "text": [
      "2025-09-28 13:38:31,936 - qm - INFO     - Starting session: 1bf5d615-ca74-413c-b987-ef18e0392b43\n"
     ]
    }
   ],
   "source": [
    "import time\n",
    "import os\n",
    "import importlib\n",
    "from qm import QuantumMachinesManager"
   ]
  },
  {
   "cell_type": "code",
   "execution_count": 2,
   "id": "35496601-eb67-4bd9-b44c-516d82ee9dea",
   "metadata": {},
   "outputs": [],
   "source": [
    "# Connect to the cluster\n",
    "import QM_cluster\n",
    "qmm = QuantumMachinesManager(host=QM_cluster.QM_Router_IP, cluster_name=QM_cluster.cluster_name, log_level=\"ERROR\", octave_calibration_db_path=os.getcwd()) "
   ]
  },
  {
   "cell_type": "markdown",
   "id": "f307d20c-0847-4475-bd52-3f537841b3e6",
   "metadata": {},
   "source": [
    "## Load Config into QM"
   ]
  },
  {
   "cell_type": "code",
   "execution_count": 7,
   "id": "27ceefab-796b-4103-9a31-c8155b15d83f",
   "metadata": {},
   "outputs": [
    {
     "name": "stdout",
     "output_type": "stream",
     "text": [
      "QM is ready with id qm-1695627174612\n"
     ]
    }
   ],
   "source": [
    "# Load (or reload) the config to the QM\n",
    "import config_qubit as config\n",
    "importlib.reload(config)\n",
    "qm = qmm.open_qm(config.config)\n",
    "print(f'QM is ready with id {qm.id}')"
   ]
  },
  {
   "cell_type": "markdown",
   "id": "f20b625f-b08c-4964-8bd1-1caca1815c30",
   "metadata": {},
   "source": [
    "## Queue Monitoring"
   ]
  },
  {
   "cell_type": "code",
   "execution_count": 4,
   "id": "1109231f-955d-45de-bafd-6cfe141e8049",
   "metadata": {},
   "outputs": [
    {
     "data": {
      "text/plain": [
       "()"
      ]
     },
     "execution_count": 4,
     "metadata": {},
     "output_type": "execute_result"
    }
   ],
   "source": [
    "# Monitor jobs in the queue\n",
    "qm.queue.pending_jobs"
   ]
  },
  {
   "cell_type": "code",
   "execution_count": 31,
   "id": "3b920d0b-75ed-4e61-8076-d711b31a28e6",
   "metadata": {},
   "outputs": [
    {
     "data": {
      "text/plain": [
       "0"
      ]
     },
     "execution_count": 31,
     "metadata": {},
     "output_type": "execute_result"
    }
   ],
   "source": [
    "qm.queue.clear()"
   ]
  },
  {
   "cell_type": "markdown",
   "id": "41387d9e-7734-4c14-976e-e40813fbd0e0",
   "metadata": {},
   "source": [
    "## Calibrate"
   ]
  },
  {
   "cell_type": "code",
   "execution_count": 32,
   "id": "37a47e33-6f5d-4923-8c25-f8c12abc0394",
   "metadata": {
    "editable": true,
    "slideshow": {
     "slide_type": ""
    },
    "tags": []
   },
   "outputs": [
    {
     "name": "stdout",
     "output_type": "stream",
     "text": [
      "Calibrating resonator...\n",
      "Done\n",
      "Calibrating qubit...\n",
      "Done\n"
     ]
    }
   ],
   "source": [
    "# Calibrate the QM\n",
    "import config_qubit as config\n",
    "importlib.reload(config)\n",
    "qm = qmm.open_qm(config.config)\n",
    "caldict = {config.resonator_LO: [config.resonator_IF,]}\n",
    "print('Calibrating resonator...')\n",
    "qm.calibrate_element('resonator',caldict)\n",
    "print('Done')    \n",
    "caldict = {config.qubit_LO: [config.qubit_IF,]}\n",
    "print('Calibrating qubit...')\n",
    "qm.calibrate_element('qubit',caldict)\n",
    "print('Done')    "
   ]
  }
 ],
 "metadata": {
  "kernelspec": {
   "display_name": "Python 3 (ipykernel)",
   "language": "python",
   "name": "python3"
  },
  "language_info": {
   "codemirror_mode": {
    "name": "ipython",
    "version": 3
   },
   "file_extension": ".py",
   "mimetype": "text/x-python",
   "name": "python",
   "nbconvert_exporter": "python",
   "pygments_lexer": "ipython3",
   "version": "3.12.6"
  }
 },
 "nbformat": 4,
 "nbformat_minor": 5
}
