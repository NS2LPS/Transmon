{
 "cells": [
  {
   "cell_type": "markdown",
   "id": "3e9b4be0-5da9-4ea9-a0d5-7136c69bf26f",
   "metadata": {},
   "source": [
    "# Transmon Notebooks\n",
    "- [Transmon demo](Transmon%20Demo.ipynb)\n",
    "- [Exercises](Transmon%20Exercises.ipynb)"
   ]
  },
  {
   "cell_type": "code",
   "execution_count": null,
   "id": "45540ad0-f3f7-40df-9118-21b44f8366c4",
   "metadata": {},
   "outputs": [],
   "source": []
  }
 ],
 "metadata": {
  "kernelspec": {
   "display_name": "Python 3 (ipykernel)",
   "language": "python",
   "name": "python3"
  },
  "language_info": {
   "codemirror_mode": {
    "name": "ipython",
    "version": 3
   },
   "file_extension": ".py",
   "mimetype": "text/x-python",
   "name": "python",
   "nbconvert_exporter": "python",
   "pygments_lexer": "ipython3",
   "version": "3.12.6"
  }
 },
 "nbformat": 4,
 "nbformat_minor": 5
}
