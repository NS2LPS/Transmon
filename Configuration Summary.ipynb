{
 "cells": [
  {
   "cell_type": "markdown",
   "id": "c77f3e5d-b59f-43f3-a4fc-af2389297cea",
   "metadata": {},
   "source": [
    "## Recap of the config\n",
    "\n",
    "### Qubit\n",
    "qubit_LO = 3819.2 * u.MHz  \n",
    "qubit_IF = 50 * u.MHz\n",
    "#### Long square \"saturation\" pulse (`saturation`)\n",
    "saturation_len = 20 * u.us  \n",
    "saturation_amp = 0.1\n",
    "#### Square pulse (`pi`, `pi_half`)\n",
    "square_pi_len = 112 * u.ns  \n",
    "square_pi_amp = 0.125  \n",
    "square_pi_half_amp = square_pi_amp/2\n",
    "#### Gaussian pulses (`x180`, `y180`, `x90`, `y90`)\n",
    "rot_180_len = 248 * u.ns  \n",
    "rot_180_sigma = rot_180_len/5  \n",
    "rot_180_amp = 0.125  \n",
    "rot_90_len = rot_180_len  \n",
    "rot_90_sigma = rot_180_sigma  \n",
    "rot_90_amp = rot_180_amp/2  \n",
    "\n",
    "### Readout Resonator\n",
    "resonator_LO = 5929.3 * u.MHz  \n",
    "resonator_IF = 60 * u.MHz  \n",
    "#### Readout pulse (`readout`)\n",
    "readout_len = 2200\n",
    "readout_delay = 200 \n",
    "readout_amp = 0.1\n",
    "time_of_flight = 256 * u.ns   "
   ]
  },
  {
   "cell_type": "code",
   "execution_count": null,
   "id": "b8b2f53e-3062-4be9-9ed4-5add8c714d38",
   "metadata": {},
   "outputs": [],
   "source": []
  }
 ],
 "metadata": {
  "kernelspec": {
   "display_name": "Python 3 (ipykernel)",
   "language": "python",
   "name": "python3"
  },
  "language_info": {
   "codemirror_mode": {
    "name": "ipython",
    "version": 3
   },
   "file_extension": ".py",
   "mimetype": "text/x-python",
   "name": "python",
   "nbconvert_exporter": "python",
   "pygments_lexer": "ipython3",
   "version": "3.12.6"
  }
 },
 "nbformat": 4,
 "nbformat_minor": 5
}
